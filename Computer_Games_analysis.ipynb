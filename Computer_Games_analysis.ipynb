{
  "nbformat": 4,
  "nbformat_minor": 0,
  "metadata": {
    "colab": {
      "provenance": [],
      "include_colab_link": true
    },
    "kernelspec": {
      "name": "python3",
      "display_name": "Python 3"
    },
    "language_info": {
      "name": "python"
    }
  },
  "cells": [
    {
      "cell_type": "markdown",
      "metadata": {
        "id": "view-in-github",
        "colab_type": "text"
      },
      "source": [
        "<a href=\"https://colab.research.google.com/github/Olando-sys/Olando-sys/blob/main/Computer_Games_analysis.ipynb\" target=\"_parent\"><img src=\"https://colab.research.google.com/assets/colab-badge.svg\" alt=\"Open In Colab\"/></a>"
      ]
    },
    {
      "cell_type": "code",
      "execution_count": null,
      "metadata": {
        "colab": {
          "base_uri": "https://localhost:8080/",
          "height": 73
        },
        "id": "JLxr47JDeIA7",
        "outputId": "2d29eced-20e0-4c6d-94a4-cc105faacd2d"
      },
      "outputs": [
        {
          "output_type": "display_data",
          "data": {
            "text/plain": [
              "<IPython.core.display.HTML object>"
            ],
            "text/html": [
              "\n",
              "     <input type=\"file\" id=\"files-742e02fb-fa63-4584-a1f0-ccb99e00f6aa\" name=\"files[]\" multiple disabled\n",
              "        style=\"border:none\" />\n",
              "     <output id=\"result-742e02fb-fa63-4584-a1f0-ccb99e00f6aa\">\n",
              "      Upload widget is only available when the cell has been executed in the\n",
              "      current browser session. Please rerun this cell to enable.\n",
              "      </output>\n",
              "      <script>// Copyright 2017 Google LLC\n",
              "//\n",
              "// Licensed under the Apache License, Version 2.0 (the \"License\");\n",
              "// you may not use this file except in compliance with the License.\n",
              "// You may obtain a copy of the License at\n",
              "//\n",
              "//      http://www.apache.org/licenses/LICENSE-2.0\n",
              "//\n",
              "// Unless required by applicable law or agreed to in writing, software\n",
              "// distributed under the License is distributed on an \"AS IS\" BASIS,\n",
              "// WITHOUT WARRANTIES OR CONDITIONS OF ANY KIND, either express or implied.\n",
              "// See the License for the specific language governing permissions and\n",
              "// limitations under the License.\n",
              "\n",
              "/**\n",
              " * @fileoverview Helpers for google.colab Python module.\n",
              " */\n",
              "(function(scope) {\n",
              "function span(text, styleAttributes = {}) {\n",
              "  const element = document.createElement('span');\n",
              "  element.textContent = text;\n",
              "  for (const key of Object.keys(styleAttributes)) {\n",
              "    element.style[key] = styleAttributes[key];\n",
              "  }\n",
              "  return element;\n",
              "}\n",
              "\n",
              "// Max number of bytes which will be uploaded at a time.\n",
              "const MAX_PAYLOAD_SIZE = 100 * 1024;\n",
              "\n",
              "function _uploadFiles(inputId, outputId) {\n",
              "  const steps = uploadFilesStep(inputId, outputId);\n",
              "  const outputElement = document.getElementById(outputId);\n",
              "  // Cache steps on the outputElement to make it available for the next call\n",
              "  // to uploadFilesContinue from Python.\n",
              "  outputElement.steps = steps;\n",
              "\n",
              "  return _uploadFilesContinue(outputId);\n",
              "}\n",
              "\n",
              "// This is roughly an async generator (not supported in the browser yet),\n",
              "// where there are multiple asynchronous steps and the Python side is going\n",
              "// to poll for completion of each step.\n",
              "// This uses a Promise to block the python side on completion of each step,\n",
              "// then passes the result of the previous step as the input to the next step.\n",
              "function _uploadFilesContinue(outputId) {\n",
              "  const outputElement = document.getElementById(outputId);\n",
              "  const steps = outputElement.steps;\n",
              "\n",
              "  const next = steps.next(outputElement.lastPromiseValue);\n",
              "  return Promise.resolve(next.value.promise).then((value) => {\n",
              "    // Cache the last promise value to make it available to the next\n",
              "    // step of the generator.\n",
              "    outputElement.lastPromiseValue = value;\n",
              "    return next.value.response;\n",
              "  });\n",
              "}\n",
              "\n",
              "/**\n",
              " * Generator function which is called between each async step of the upload\n",
              " * process.\n",
              " * @param {string} inputId Element ID of the input file picker element.\n",
              " * @param {string} outputId Element ID of the output display.\n",
              " * @return {!Iterable<!Object>} Iterable of next steps.\n",
              " */\n",
              "function* uploadFilesStep(inputId, outputId) {\n",
              "  const inputElement = document.getElementById(inputId);\n",
              "  inputElement.disabled = false;\n",
              "\n",
              "  const outputElement = document.getElementById(outputId);\n",
              "  outputElement.innerHTML = '';\n",
              "\n",
              "  const pickedPromise = new Promise((resolve) => {\n",
              "    inputElement.addEventListener('change', (e) => {\n",
              "      resolve(e.target.files);\n",
              "    });\n",
              "  });\n",
              "\n",
              "  const cancel = document.createElement('button');\n",
              "  inputElement.parentElement.appendChild(cancel);\n",
              "  cancel.textContent = 'Cancel upload';\n",
              "  const cancelPromise = new Promise((resolve) => {\n",
              "    cancel.onclick = () => {\n",
              "      resolve(null);\n",
              "    };\n",
              "  });\n",
              "\n",
              "  // Wait for the user to pick the files.\n",
              "  const files = yield {\n",
              "    promise: Promise.race([pickedPromise, cancelPromise]),\n",
              "    response: {\n",
              "      action: 'starting',\n",
              "    }\n",
              "  };\n",
              "\n",
              "  cancel.remove();\n",
              "\n",
              "  // Disable the input element since further picks are not allowed.\n",
              "  inputElement.disabled = true;\n",
              "\n",
              "  if (!files) {\n",
              "    return {\n",
              "      response: {\n",
              "        action: 'complete',\n",
              "      }\n",
              "    };\n",
              "  }\n",
              "\n",
              "  for (const file of files) {\n",
              "    const li = document.createElement('li');\n",
              "    li.append(span(file.name, {fontWeight: 'bold'}));\n",
              "    li.append(span(\n",
              "        `(${file.type || 'n/a'}) - ${file.size} bytes, ` +\n",
              "        `last modified: ${\n",
              "            file.lastModifiedDate ? file.lastModifiedDate.toLocaleDateString() :\n",
              "                                    'n/a'} - `));\n",
              "    const percent = span('0% done');\n",
              "    li.appendChild(percent);\n",
              "\n",
              "    outputElement.appendChild(li);\n",
              "\n",
              "    const fileDataPromise = new Promise((resolve) => {\n",
              "      const reader = new FileReader();\n",
              "      reader.onload = (e) => {\n",
              "        resolve(e.target.result);\n",
              "      };\n",
              "      reader.readAsArrayBuffer(file);\n",
              "    });\n",
              "    // Wait for the data to be ready.\n",
              "    let fileData = yield {\n",
              "      promise: fileDataPromise,\n",
              "      response: {\n",
              "        action: 'continue',\n",
              "      }\n",
              "    };\n",
              "\n",
              "    // Use a chunked sending to avoid message size limits. See b/62115660.\n",
              "    let position = 0;\n",
              "    do {\n",
              "      const length = Math.min(fileData.byteLength - position, MAX_PAYLOAD_SIZE);\n",
              "      const chunk = new Uint8Array(fileData, position, length);\n",
              "      position += length;\n",
              "\n",
              "      const base64 = btoa(String.fromCharCode.apply(null, chunk));\n",
              "      yield {\n",
              "        response: {\n",
              "          action: 'append',\n",
              "          file: file.name,\n",
              "          data: base64,\n",
              "        },\n",
              "      };\n",
              "\n",
              "      let percentDone = fileData.byteLength === 0 ?\n",
              "          100 :\n",
              "          Math.round((position / fileData.byteLength) * 100);\n",
              "      percent.textContent = `${percentDone}% done`;\n",
              "\n",
              "    } while (position < fileData.byteLength);\n",
              "  }\n",
              "\n",
              "  // All done.\n",
              "  yield {\n",
              "    response: {\n",
              "      action: 'complete',\n",
              "    }\n",
              "  };\n",
              "}\n",
              "\n",
              "scope.google = scope.google || {};\n",
              "scope.google.colab = scope.google.colab || {};\n",
              "scope.google.colab._files = {\n",
              "  _uploadFiles,\n",
              "  _uploadFilesContinue,\n",
              "};\n",
              "})(self);\n",
              "</script> "
            ]
          },
          "metadata": {}
        },
        {
          "output_type": "stream",
          "name": "stdout",
          "text": [
            "Saving computer_games.csv to computer_games.csv\n"
          ]
        }
      ],
      "source": [
        "#import the csv file\n",
        "from google.colab import files\n",
        "\n",
        "uploaded = files.upload()\n",
        "\n"
      ]
    },
    {
      "cell_type": "code",
      "source": [
        "#import the pandas library\n",
        "import pandas as pd\n",
        "df= pd.read_csv('computer_games.csv')\n",
        "#determine shape of dataframe\n",
        "rows, columns = df.shape\n",
        "#display dimensions\n",
        "print(rows, columns)\n",
        "print(f\"The dataset has {rows} rows and {columns} columns.\")\n"
      ],
      "metadata": {
        "colab": {
          "base_uri": "https://localhost:8080/"
        },
        "id": "AZHSInC9nGPm",
        "outputId": "d555c4e9-6514-42f2-d4f0-ce47ccf118da"
      },
      "execution_count": null,
      "outputs": [
        {
          "output_type": "stream",
          "name": "stdout",
          "text": [
            "1095 6\n",
            "The dataset has 1095 rows and 6 columns.\n"
          ]
        }
      ]
    },
    {
      "cell_type": "code",
      "source": [
        "print(df.head(10))"
      ],
      "metadata": {
        "colab": {
          "base_uri": "https://localhost:8080/"
        },
        "id": "aP0dOSLupXFJ",
        "outputId": "ba62d144-afb7-4b90-b5f8-a90c70b21add"
      },
      "execution_count": null,
      "outputs": [
        {
          "output_type": "stream",
          "name": "stdout",
          "text": [
            "                                 Name                        Developer  \\\n",
            "0                             A-Men 2                     Bloober Team   \n",
            "1                             A-Train                          Artdink   \n",
            "2                          A-10 Cuba!              Parsoft Interactive   \n",
            "3                           A.D. 2044                  R.M.P. Software   \n",
            "4  A.D.A.M. Life's Greatest Mysteries  Columbia Healthcare Corporation   \n",
            "5           A.D.A.M. The Inside Story  Columbia Healthcare Corporation   \n",
            "6         A.R.E.S.: Extinction Agenda                    Extend Studio   \n",
            "7                 A Girls Fabric Face            Stanislaw Truchowskit   \n",
            "8                       A Hat in Time              Gears for Breakfast   \n",
            "9          A Game of Thrones: Genesis                          Cyanide   \n",
            "\n",
            "                          Producer                       Genre  \\\n",
            "0                     Bloober Team           Adventure, Puzzle   \n",
            "1   Artdink, Maxis, Ocean Software     Vehicle Simulation Game   \n",
            "2                       Activision            Flight simulator   \n",
            "3                        LK Avalon                   Adventure   \n",
            "4  Columbia Healthcare Corporation                 Educational   \n",
            "5  Columbia Healthcare Corporation                 Educational   \n",
            "6         Origo Games, Aksys Games            Action, platform   \n",
            "7                          TurnVex                   Adventure   \n",
            "8              Gears for Breakfast  Platform, action-adventure   \n",
            "9           Focus Home Interactive                    Strategy   \n",
            "\n",
            "           Operating System       Date Released  \n",
            "0         Microsoft Windows       June 24, 2015  \n",
            "1              Windows, Mac                1985  \n",
            "2              Windows, Mac   November 30, 1996  \n",
            "3         Microsoft Windows   September 6, 1996  \n",
            "4         Microsoft Windows                1996  \n",
            "5         Microsoft Windows                1995  \n",
            "6         Microsoft Windows   December 14, 2010  \n",
            "7         Microsoft Windows      March 10, 2017  \n",
            "8  macOS, Microsoft Windows     October 5, 2017  \n",
            "9         Microsoft Windows  September 28, 2011  \n"
          ]
        }
      ]
    },
    {
      "cell_type": "code",
      "source": [
        "print(df.columns)\n"
      ],
      "metadata": {
        "colab": {
          "base_uri": "https://localhost:8080/"
        },
        "id": "qjLWtJTZpcY5",
        "outputId": "c90ca219-552f-4cfe-dc4d-d390af644325"
      },
      "execution_count": null,
      "outputs": [
        {
          "output_type": "stream",
          "name": "stdout",
          "text": [
            "Index(['Name', 'Developer', 'Producer', 'Genre', 'Operating System',\n",
            "       'Date Released'],\n",
            "      dtype='object')\n"
          ]
        }
      ]
    },
    {
      "cell_type": "code",
      "source": [
        "print(df.dtypes)\n"
      ],
      "metadata": {
        "colab": {
          "base_uri": "https://localhost:8080/"
        },
        "id": "vX1PeR5WptSF",
        "outputId": "b3a8805f-4493-4164-9768-a5c5ebb7eb52"
      },
      "execution_count": null,
      "outputs": [
        {
          "output_type": "stream",
          "name": "stdout",
          "text": [
            "Name                object\n",
            "Developer           object\n",
            "Producer            object\n",
            "Genre               object\n",
            "Operating System    object\n",
            "Date Released       object\n",
            "dtype: object\n"
          ]
        }
      ]
    },
    {
      "cell_type": "code",
      "source": [
        "def search_games_by_name(dataframe, column_name, search_term):\n",
        "    \"\"\"\n",
        "    Searches for games by name and displays matching titles.\n",
        "\n",
        "    Parameters:\n",
        "    dataframe (pd.DataFrame): The DataFrame containing game data.\n",
        "    column_name (str): The name of the column to search in.\n",
        "    search_term (str): The search term to find in game titles.\n",
        "\n",
        "    Returns:\n",
        "    None\n",
        "    \"\"\"\n",
        "    search_term_lower = search_term.lower()\n",
        "\n",
        "    # Filter the DataFrame based on whether the search term is found in the specified column\n",
        "    matching_games = dataframe[dataframe[column_name].str.lower().str.contains(search_term_lower, na=False)]\n",
        "\n",
        "    if not matching_games.empty:\n",
        "        print(f\"Games matching '{search_term}':\")\n",
        "        print(matching_games)\n",
        "    else:\n",
        "        print(f\"No games found matching '{search_term}'.\")\n",
        "\n",
        "#initiate search\n",
        "search_games_by_name(df, 'Name', 'Dark')\n"
      ],
      "metadata": {
        "colab": {
          "base_uri": "https://localhost:8080/"
        },
        "id": "Ym_mzENUrTG8",
        "outputId": "85a403ec-822c-4358-c64b-b785744f8ced"
      },
      "execution_count": null,
      "outputs": [
        {
          "output_type": "stream",
          "name": "stdout",
          "text": [
            "Games matching 'Dark':\n",
            "                                               Name  \\\n",
            "97                        Amnesia: The Dark Descent   \n",
            "220      Call of Cthulhu: Dark Corners of the Earth   \n",
            "298                                      Dark Souls   \n",
            "299                                   Dark Souls II   \n",
            "300                                  Dark Souls III   \n",
            "301                  Dark Sun Online: Crimson Sands   \n",
            "302                       Dark Sun: Shattered Lands   \n",
            "303                   Dark Sun: Wake of the Ravager   \n",
            "304                                    Darksiders 2   \n",
            "305                          Darkstone: Evil Reigns   \n",
            "401  Eye of the Beholder II: The Legend of Darkmoon   \n",
            "679     Neverwinter Nights: Hordes of the Underdark   \n",
            "726                               Pools of Darkness   \n",
            "921                         Thief: The Dark Project   \n",
            "936              Tomb Raider: The Angel of Darkness   \n",
            "\n",
            "                                             Developer  \\\n",
            "97                                    Frictional Games   \n",
            "220                              Headfirst Productions   \n",
            "298                                       FromSoftware   \n",
            "299                                       FromSoftware   \n",
            "300                                       FromSoftware   \n",
            "301                        Strategic Simulations, Inc.   \n",
            "302                        Strategic Simulations, Inc.   \n",
            "303                        Strategic Simulations, Inc.   \n",
            "304                                        Vigil Games   \n",
            "305                    Delphine Software International   \n",
            "401                                Westwood Associates   \n",
            "679                                            BioWare   \n",
            "726  Strategic Simulations, Inc., MicroMagic, Inc.,...   \n",
            "921                              Looking Glass Studios   \n",
            "936                                        Core Design   \n",
            "\n",
            "                                              Producer  \\\n",
            "97                                    Frictional Games   \n",
            "220                                 Bethesda Softworks   \n",
            "298                                 Namco Bandai Games   \n",
            "299                                 Bandai Namco Games   \n",
            "300                         Bandai Namco Entertainment   \n",
            "301                        Total Entertainment Network   \n",
            "302                       Softgold Computerspiele GmbH   \n",
            "303                        Strategic Simulations, Inc.   \n",
            "304                                                THQ   \n",
            "305     Electronic Arts EU, Gathering of Developers NA   \n",
            "401                        Strategic Simulations, Inc.   \n",
            "679                                     Atari, MacSoft   \n",
            "726  Strategic Simulations, Inc., Pony Canyon (PC9800)   \n",
            "921                                  Eidos Interactive   \n",
            "936                                  Eidos Interactive   \n",
            "\n",
            "                                     Genre  \\\n",
            "97                             Horror game   \n",
            "220  Survival horror, first-person shooter   \n",
            "298                    Action role-playing   \n",
            "299                    Action role-playing   \n",
            "300                    Action role-playing   \n",
            "301                           RPG, fantasy   \n",
            "302                           RPG, fantasy   \n",
            "303                           RPG, fantasy   \n",
            "304             Hack and slash, platformer   \n",
            "305                             Action RPG   \n",
            "401                           Fantasy, RPG   \n",
            "679                           Role-playing   \n",
            "726                           Fantasy, RPG   \n",
            "921                                Stealth   \n",
            "936                       Action-adventure   \n",
            "\n",
            "                                    Operating System      Date Released  \n",
            "97                   Microsoft Windows, Linux, macOS     August 8, 2010  \n",
            "220                                Microsoft Windows   October 24, 2005  \n",
            "298                                Microsoft Windows    August 23, 2012  \n",
            "299                                Microsoft Windows     April 24, 2014  \n",
            "300                                Microsoft Windows     April 12, 2016  \n",
            "301                                           MS-DOS   February 1, 1996  \n",
            "302                                           MS-DOS  September 1, 1993  \n",
            "303                                           MS-DOS               1995  \n",
            "304                                Microsoft Windows    August 14, 2012  \n",
            "305                                Microsoft Windows      July 31, 1999  \n",
            "401                                           MS-DOS  December 12, 1991  \n",
            "679                  Microsoft Windows, Linux, macOS   December 2, 2003  \n",
            "726  Microsoft Windows, macOS, Amiga, PC-9800 series               1991  \n",
            "921                                Microsoft Windows  November 30, 1998  \n",
            "936                         Microsoft Windows, macOS      June 30, 2003  \n"
          ]
        }
      ]
    }
  ]
}